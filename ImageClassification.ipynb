{
 "cells": [
  {
   "cell_type": "code",
   "execution_count": null,
   "id": "1e5f3f75",
   "metadata": {},
   "outputs": [],
   "source": [
    "#importing libraries\n",
    "import pandas as pd\n",
    "import numpy as np\n",
    "import os\n",
    "import matplotlib.pyplot as plt\n",
    "from skimage.io import imread\n",
    "from skimage.transform import resize\n",
    "from sklearn.model_selection import train_test_split\n",
    "from sklearn.model_selection import GridSearchCV\n",
    "from sklearn import svm\n",
    "from sklearn.metrics import accuracy_score, confusion_matrix\n",
    "import pickle"
   ]
  },
  {
   "cell_type": "markdown",
   "id": "a79ff91f",
   "metadata": {},
   "source": [
    "# Untuk convert Matrix to Vector - flatten()"
   ]
  },
  {
   "cell_type": "code",
   "execution_count": null,
   "id": "3038ec51",
   "metadata": {},
   "outputs": [],
   "source": [
    "# Preprocessing:\n",
    "# 1) Resize 2) Flatten\n",
    "\n",
    "target = []\n",
    "images = []\n",
    "flat_data = []\n",
    "\n",
    "DATADIR = 'C:/Users/Lenovo/Desktop/projek/SVM_IKAN/Image Dataset'\n",
    "CATEGORIES = ['kurang segar', 'segar', 'tidak segar']\n",
    "\n",
    "for category in CATEGORIES:\n",
    "    class_num = CATEGORIES.index(category) #Label Encoding\n",
    "    path = os.path.join(DATADIR, category) #path to use images\n",
    "    for img in os.listdir(path):\n",
    "        img_array = imread(os.path.join(path, img))\n",
    "        #print(img_array.shape) \n",
    "        #plt.imshow(img_array) To view an image\n",
    "        #crop dan resize\n",
    "        img_resized = resize(img_array, (150,150,3))\n",
    "        #feature extraction\n",
    "        flat_data.append(img_resized.flatten())\n",
    "        images.append(img_resized)\n",
    "        target.append(class_num)\n",
    "        #break To view an image\n",
    "\n",
    "flat_data = np.array(flat_data)\n",
    "target = np.array(target)\n",
    "images = np.array(images)"
   ]
  },
  {
   "cell_type": "code",
   "execution_count": null,
   "id": "fe5d21da",
   "metadata": {},
   "outputs": [],
   "source": [
    "len(flat_data[0])"
   ]
  },
  {
   "cell_type": "code",
   "execution_count": null,
   "id": "794ee323",
   "metadata": {},
   "outputs": [],
   "source": [
    "150*150*3"
   ]
  },
  {
   "cell_type": "code",
   "execution_count": null,
   "id": "db90309b",
   "metadata": {},
   "outputs": [],
   "source": [
    "target"
   ]
  },
  {
   "cell_type": "code",
   "execution_count": null,
   "id": "56522dd0",
   "metadata": {},
   "outputs": [],
   "source": [
    "unique, count = np.unique(target, return_counts=True)\n",
    "plt.bar(CATEGORIES, count)"
   ]
  },
  {
   "cell_type": "markdown",
   "id": "3263e4a9",
   "metadata": {},
   "source": [
    "# Splitting data"
   ]
  },
  {
   "cell_type": "code",
   "execution_count": null,
   "id": "5dabd772",
   "metadata": {},
   "outputs": [],
   "source": [
    "x_train, x_test, y_train, y_test = train_test_split(flat_data, target, test_size=0.25, random_state=42)"
   ]
  },
  {
   "cell_type": "code",
   "execution_count": null,
   "id": "5cf070d5",
   "metadata": {},
   "outputs": [],
   "source": [
    "param_grid = [\n",
    "                {'C':[1,10,100,1000], 'kernel':['linear']},\n",
    "                {'C':[1,10,100,1000], 'gamma':[0.001,0.0001], 'kernel':['rbf']},\n",
    "]\n",
    "\n",
    "svc = svm.SVC(probability=True)\n",
    "clf = GridSearchCV(svc, param_grid)\n",
    "clf.fit(x_train, y_train)"
   ]
  },
  {
   "cell_type": "code",
   "execution_count": null,
   "id": "db683dd2",
   "metadata": {},
   "outputs": [],
   "source": [
    "y_pred = clf.predict(x_test)\n",
    "y_pred"
   ]
  },
  {
   "cell_type": "code",
   "execution_count": null,
   "id": "93cceab1",
   "metadata": {},
   "outputs": [],
   "source": [
    "y_test"
   ]
  },
  {
   "cell_type": "code",
   "execution_count": null,
   "id": "8284e496",
   "metadata": {},
   "outputs": [],
   "source": [
    "accuracy_score(y_pred, y_test)"
   ]
  },
  {
   "cell_type": "code",
   "execution_count": null,
   "id": "147a712d",
   "metadata": {},
   "outputs": [],
   "source": [
    "confusion_matrix(y_pred, y_test)"
   ]
  },
  {
   "cell_type": "code",
   "execution_count": null,
   "id": "3a44d15e",
   "metadata": {},
   "outputs": [],
   "source": [
    "pickle.dump(clf,open('img_model.p', 'wb'))"
   ]
  },
  {
   "cell_type": "code",
   "execution_count": null,
   "id": "65eba544",
   "metadata": {},
   "outputs": [],
   "source": [
    "model = pickle.load(open('img_model.p', 'rb'))"
   ]
  },
  {
   "cell_type": "markdown",
   "id": "efcbf5a6",
   "metadata": {},
   "source": [
    "# Test"
   ]
  },
  {
   "cell_type": "code",
   "execution_count": null,
   "id": "168a1878",
   "metadata": {},
   "outputs": [],
   "source": [
    "flat_data = []\n",
    "url = input('Enter your URL ')\n",
    "img = imread(url)\n",
    "img_resized = resize(img, (150,150,3))\n",
    "flat_data.append(img_resized.flatten())\n",
    "flat_data = np.array(flat_data)\n",
    "print(img.shape)\n",
    "plt.imshow(img_resized)\n",
    "y_out = model.predict(flat_data)\n",
    "y_out = CATEGORIES[y_out[0]]\n",
    "print(f' PREDICTED OUTPUT: {y_out}')"
   ]
  },
  {
   "cell_type": "code",
   "execution_count": null,
   "id": "469835a3",
   "metadata": {},
   "outputs": [],
   "source": []
  }
 ],
 "metadata": {
  "kernelspec": {
   "display_name": "streamlit",
   "language": "python",
   "name": "streamlit"
  },
  "language_info": {
   "codemirror_mode": {
    "name": "ipython",
    "version": 3
   },
   "file_extension": ".py",
   "mimetype": "text/x-python",
   "name": "python",
   "nbconvert_exporter": "python",
   "pygments_lexer": "ipython3",
   "version": "3.7.3"
  }
 },
 "nbformat": 4,
 "nbformat_minor": 5
}
